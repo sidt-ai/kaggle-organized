{
 "cells": [
  {
   "cell_type": "markdown",
   "id": "9a591718",
   "metadata": {
    "papermill": {
     "duration": 0.042905,
     "end_time": "2022-02-25T10:45:30.172730",
     "exception": false,
     "start_time": "2022-02-25T10:45:30.129825",
     "status": "completed"
    },
    "tags": []
   },
   "source": [
    "# Imports"
   ]
  },
  {
   "cell_type": "code",
   "execution_count": 1,
   "id": "b59f960c",
   "metadata": {
    "_cell_guid": "b1076dfc-b9ad-4769-8c92-a6c4dae69d19",
    "_uuid": "8f2839f25d086af736a60e9eeb907d3b93b6e0e5",
    "execution": {
     "iopub.execute_input": "2022-02-25T10:45:30.270434Z",
     "iopub.status.busy": "2022-02-25T10:45:30.268503Z",
     "iopub.status.idle": "2022-02-25T10:45:31.298525Z",
     "shell.execute_reply": "2022-02-25T10:45:31.299001Z",
     "shell.execute_reply.started": "2022-02-25T10:27:11.739861Z"
    },
    "papermill": {
     "duration": 1.080134,
     "end_time": "2022-02-25T10:45:31.299296",
     "exception": false,
     "start_time": "2022-02-25T10:45:30.219162",
     "status": "completed"
    },
    "tags": []
   },
   "outputs": [],
   "source": [
    "import gc\n",
    "gc.enable()\n",
    "\n",
    "import warnings\n",
    "warnings.filterwarnings('ignore')\n",
    "\n",
    "import numpy as np\n",
    "import scipy.stats as st\n",
    "import pandas as pd\n",
    "pd.set_option('precision', 4)\n",
    "pd.set_option('display.max_columns', None)\n",
    "\n",
    "import matplotlib.pyplot as plt\n",
    "%matplotlib inline\n",
    "import seaborn as sns\n",
    "sns.set_style('darkgrid')\n",
    "\n",
    "SEED = 2311"
   ]
  },
  {
   "cell_type": "code",
   "execution_count": 2,
   "id": "58ff5411",
   "metadata": {
    "execution": {
     "iopub.execute_input": "2022-02-25T10:45:31.387824Z",
     "iopub.status.busy": "2022-02-25T10:45:31.387245Z",
     "iopub.status.idle": "2022-02-25T10:45:31.748136Z",
     "shell.execute_reply": "2022-02-25T10:45:31.748578Z",
     "shell.execute_reply.started": "2022-02-25T10:27:12.671545Z"
    },
    "papermill": {
     "duration": 0.407226,
     "end_time": "2022-02-25T10:45:31.748879",
     "exception": false,
     "start_time": "2022-02-25T10:45:31.341653",
     "status": "completed"
    },
    "tags": []
   },
   "outputs": [],
   "source": [
    "from sklearn.ensemble import ExtraTreesClassifier"
   ]
  },
  {
   "cell_type": "code",
   "execution_count": 3,
   "id": "33713989",
   "metadata": {
    "execution": {
     "iopub.execute_input": "2022-02-25T10:45:31.836106Z",
     "iopub.status.busy": "2022-02-25T10:45:31.835497Z",
     "iopub.status.idle": "2022-02-25T10:45:32.325796Z",
     "shell.execute_reply": "2022-02-25T10:45:32.325240Z",
     "shell.execute_reply.started": "2022-02-25T10:27:12.983869Z"
    },
    "papermill": {
     "duration": 0.535065,
     "end_time": "2022-02-25T10:45:32.325956",
     "exception": false,
     "start_time": "2022-02-25T10:45:31.790891",
     "status": "completed"
    },
    "tags": []
   },
   "outputs": [],
   "source": [
    "train = pd.read_csv('../input/ml-olympiad-good-health-and-well-being/train.csv')\n",
    "test = pd.read_csv('../input/ml-olympiad-good-health-and-well-being/test.csv')"
   ]
  },
  {
   "cell_type": "code",
   "execution_count": 4,
   "id": "8c114873",
   "metadata": {
    "execution": {
     "iopub.execute_input": "2022-02-25T10:45:32.418507Z",
     "iopub.status.busy": "2022-02-25T10:45:32.417905Z",
     "iopub.status.idle": "2022-02-25T10:45:32.421721Z",
     "shell.execute_reply": "2022-02-25T10:45:32.421225Z",
     "shell.execute_reply.started": "2022-02-25T10:27:13.458747Z"
    },
    "papermill": {
     "duration": 0.05248,
     "end_time": "2022-02-25T10:45:32.421855",
     "exception": false,
     "start_time": "2022-02-25T10:45:32.369375",
     "status": "completed"
    },
    "tags": []
   },
   "outputs": [
    {
     "data": {
      "text/plain": [
       "((177576, 23), (76104, 22))"
      ]
     },
     "execution_count": 4,
     "metadata": {},
     "output_type": "execute_result"
    }
   ],
   "source": [
    "train.shape, test.shape"
   ]
  },
  {
   "cell_type": "code",
   "execution_count": 5,
   "id": "7c98e5f5",
   "metadata": {
    "execution": {
     "iopub.execute_input": "2022-02-25T10:45:32.510735Z",
     "iopub.status.busy": "2022-02-25T10:45:32.510118Z",
     "iopub.status.idle": "2022-02-25T10:45:32.554388Z",
     "shell.execute_reply": "2022-02-25T10:45:32.553881Z",
     "shell.execute_reply.started": "2022-02-25T10:27:13.468221Z"
    },
    "papermill": {
     "duration": 0.090233,
     "end_time": "2022-02-25T10:45:32.554536",
     "exception": false,
     "start_time": "2022-02-25T10:45:32.464303",
     "status": "completed"
    },
    "tags": []
   },
   "outputs": [
    {
     "data": {
      "text/plain": [
       "PatientID            177576\n",
       "HighBP                    2\n",
       "HighChol                  2\n",
       "CholCheck                 2\n",
       "BMI                      81\n",
       "Smoker                    2\n",
       "Stroke                    2\n",
       "Diabetes                  3\n",
       "PhysActivity              2\n",
       "Fruits                    2\n",
       "Veggies                   2\n",
       "HvyAlcoholConsump         2\n",
       "AnyHealthcare             2\n",
       "NoDocbcCost               2\n",
       "GenHlth                   5\n",
       "MentHlth                 31\n",
       "PhysHlth                 31\n",
       "DiffWalk                  2\n",
       "Sex                       2\n",
       "Age                      13\n",
       "Education                 6\n",
       "Income                    8\n",
       "target                    2\n",
       "dtype: int64"
      ]
     },
     "execution_count": 5,
     "metadata": {},
     "output_type": "execute_result"
    }
   ],
   "source": [
    "train.nunique()"
   ]
  },
  {
   "cell_type": "markdown",
   "id": "15648241",
   "metadata": {
    "papermill": {
     "duration": 0.04222,
     "end_time": "2022-02-25T10:45:32.640137",
     "exception": false,
     "start_time": "2022-02-25T10:45:32.597917",
     "status": "completed"
    },
    "tags": []
   },
   "source": [
    "# target"
   ]
  },
  {
   "cell_type": "code",
   "execution_count": 6,
   "id": "89375635",
   "metadata": {
    "execution": {
     "iopub.execute_input": "2022-02-25T10:45:32.736558Z",
     "iopub.status.busy": "2022-02-25T10:45:32.734166Z",
     "iopub.status.idle": "2022-02-25T10:45:32.739760Z",
     "shell.execute_reply": "2022-02-25T10:45:32.740214Z",
     "shell.execute_reply.started": "2022-02-25T10:27:13.516019Z"
    },
    "papermill": {
     "duration": 0.056835,
     "end_time": "2022-02-25T10:45:32.740373",
     "exception": false,
     "start_time": "2022-02-25T10:45:32.683538",
     "status": "completed"
    },
    "tags": []
   },
   "outputs": [
    {
     "data": {
      "text/plain": [
       "0    160851\n",
       "1     16725\n",
       "Name: target, dtype: int64"
      ]
     },
     "execution_count": 6,
     "metadata": {},
     "output_type": "execute_result"
    }
   ],
   "source": [
    "train.target.value_counts()"
   ]
  },
  {
   "cell_type": "code",
   "execution_count": 7,
   "id": "f70677e0",
   "metadata": {
    "execution": {
     "iopub.execute_input": "2022-02-25T10:45:32.832601Z",
     "iopub.status.busy": "2022-02-25T10:45:32.831985Z",
     "iopub.status.idle": "2022-02-25T10:45:32.839934Z",
     "shell.execute_reply": "2022-02-25T10:45:32.840426Z",
     "shell.execute_reply.started": "2022-02-25T10:27:13.528513Z"
    },
    "papermill": {
     "duration": 0.05541,
     "end_time": "2022-02-25T10:45:32.840590",
     "exception": false,
     "start_time": "2022-02-25T10:45:32.785180",
     "status": "completed"
    },
    "tags": []
   },
   "outputs": [
    {
     "data": {
      "text/plain": [
       "0    0.9058\n",
       "1    0.0942\n",
       "Name: target, dtype: float64"
      ]
     },
     "execution_count": 7,
     "metadata": {},
     "output_type": "execute_result"
    }
   ],
   "source": [
    "train.target.value_counts(normalize=True)"
   ]
  },
  {
   "cell_type": "markdown",
   "id": "c6fde6c3",
   "metadata": {
    "papermill": {
     "duration": 0.044013,
     "end_time": "2022-02-25T10:45:32.930857",
     "exception": false,
     "start_time": "2022-02-25T10:45:32.886844",
     "status": "completed"
    },
    "tags": []
   },
   "source": [
    "Imbalanced target distribution."
   ]
  },
  {
   "cell_type": "markdown",
   "id": "895207b4",
   "metadata": {
    "papermill": {
     "duration": 0.043996,
     "end_time": "2022-02-25T10:45:33.019581",
     "exception": false,
     "start_time": "2022-02-25T10:45:32.975585",
     "status": "completed"
    },
    "tags": []
   },
   "source": [
    "# Binary categorical features"
   ]
  },
  {
   "cell_type": "code",
   "execution_count": 8,
   "id": "9060d616",
   "metadata": {
    "execution": {
     "iopub.execute_input": "2022-02-25T10:45:33.113890Z",
     "iopub.status.busy": "2022-02-25T10:45:33.113238Z",
     "iopub.status.idle": "2022-02-25T10:45:33.116265Z",
     "shell.execute_reply": "2022-02-25T10:45:33.115827Z",
     "shell.execute_reply.started": "2022-02-25T10:27:13.542799Z"
    },
    "papermill": {
     "duration": 0.052247,
     "end_time": "2022-02-25T10:45:33.116401",
     "exception": false,
     "start_time": "2022-02-25T10:45:33.064154",
     "status": "completed"
    },
    "tags": []
   },
   "outputs": [],
   "source": [
    "def display_stats(df, col, target):\n",
    "    print(f'Relative frequency:\\n{train[col].value_counts(normalize=True).sort_index()}')\n",
    "    \n",
    "    print(f'\\nTarget distribution grouped by {col}:')\n",
    "    print(train.groupby(col)[target].value_counts(normalize=True))\n",
    "    \n",
    "    print(f'\\nCorrelation with target: {train[col].corr(train[target]):.4f}')"
   ]
  },
  {
   "cell_type": "markdown",
   "id": "37932a13",
   "metadata": {
    "papermill": {
     "duration": 0.043119,
     "end_time": "2022-02-25T10:45:33.204424",
     "exception": false,
     "start_time": "2022-02-25T10:45:33.161305",
     "status": "completed"
    },
    "tags": []
   },
   "source": [
    "### HighBP"
   ]
  },
  {
   "cell_type": "code",
   "execution_count": 9,
   "id": "9c89e808",
   "metadata": {
    "execution": {
     "iopub.execute_input": "2022-02-25T10:45:33.303617Z",
     "iopub.status.busy": "2022-02-25T10:45:33.302963Z",
     "iopub.status.idle": "2022-02-25T10:45:33.329574Z",
     "shell.execute_reply": "2022-02-25T10:45:33.330538Z",
     "shell.execute_reply.started": "2022-02-25T10:27:13.552511Z"
    },
    "papermill": {
     "duration": 0.082865,
     "end_time": "2022-02-25T10:45:33.330807",
     "exception": false,
     "start_time": "2022-02-25T10:45:33.247942",
     "status": "completed"
    },
    "tags": []
   },
   "outputs": [
    {
     "name": "stdout",
     "output_type": "stream",
     "text": [
      "Relative frequency:\n",
      "0    0.5708\n",
      "1    0.4292\n",
      "Name: HighBP, dtype: float64\n",
      "\n",
      "Target distribution grouped by HighBP:\n",
      "HighBP  target\n",
      "0       0         0.9590\n",
      "        1         0.0410\n",
      "1       0         0.8351\n",
      "        1         0.1649\n",
      "Name: target, dtype: float64\n",
      "\n",
      "Correlation with target: 0.2098\n"
     ]
    }
   ],
   "source": [
    "display_stats(train, 'HighBP', 'target')"
   ]
  },
  {
   "cell_type": "markdown",
   "id": "cecd4c13",
   "metadata": {
    "papermill": {
     "duration": 0.043136,
     "end_time": "2022-02-25T10:45:33.420968",
     "exception": false,
     "start_time": "2022-02-25T10:45:33.377832",
     "status": "completed"
    },
    "tags": []
   },
   "source": [
    "### HighChol"
   ]
  },
  {
   "cell_type": "code",
   "execution_count": 10,
   "id": "9b447910",
   "metadata": {
    "execution": {
     "iopub.execute_input": "2022-02-25T10:45:33.516162Z",
     "iopub.status.busy": "2022-02-25T10:45:33.515518Z",
     "iopub.status.idle": "2022-02-25T10:45:33.536470Z",
     "shell.execute_reply": "2022-02-25T10:45:33.536936Z",
     "shell.execute_reply.started": "2022-02-25T10:27:13.591185Z"
    },
    "papermill": {
     "duration": 0.071964,
     "end_time": "2022-02-25T10:45:33.537095",
     "exception": false,
     "start_time": "2022-02-25T10:45:33.465131",
     "status": "completed"
    },
    "tags": []
   },
   "outputs": [
    {
     "name": "stdout",
     "output_type": "stream",
     "text": [
      "Relative frequency:\n",
      "0    0.5761\n",
      "1    0.4239\n",
      "Name: HighChol, dtype: float64\n",
      "\n",
      "Target distribution grouped by HighChol:\n",
      "HighChol  target\n",
      "0         0         0.9513\n",
      "          1         0.0487\n",
      "1         0         0.8440\n",
      "          1         0.1560\n",
      "Name: target, dtype: float64\n",
      "\n",
      "Correlation with target: 0.1815\n"
     ]
    }
   ],
   "source": [
    "display_stats(train, 'HighChol', 'target')"
   ]
  },
  {
   "cell_type": "markdown",
   "id": "c2893592",
   "metadata": {
    "papermill": {
     "duration": 0.044142,
     "end_time": "2022-02-25T10:45:33.625225",
     "exception": false,
     "start_time": "2022-02-25T10:45:33.581083",
     "status": "completed"
    },
    "tags": []
   },
   "source": [
    "### CholCheck"
   ]
  },
  {
   "cell_type": "code",
   "execution_count": 11,
   "id": "95c25f15",
   "metadata": {
    "execution": {
     "iopub.execute_input": "2022-02-25T10:45:33.717721Z",
     "iopub.status.busy": "2022-02-25T10:45:33.717039Z",
     "iopub.status.idle": "2022-02-25T10:45:33.742109Z",
     "shell.execute_reply": "2022-02-25T10:45:33.742943Z",
     "shell.execute_reply.started": "2022-02-25T10:27:13.616031Z"
    },
    "papermill": {
     "duration": 0.072851,
     "end_time": "2022-02-25T10:45:33.743246",
     "exception": false,
     "start_time": "2022-02-25T10:45:33.670395",
     "status": "completed"
    },
    "tags": []
   },
   "outputs": [
    {
     "name": "stdout",
     "output_type": "stream",
     "text": [
      "Relative frequency:\n",
      "0    0.0378\n",
      "1    0.9622\n",
      "Name: CholCheck, dtype: float64\n",
      "\n",
      "Target distribution grouped by CholCheck:\n",
      "CholCheck  target\n",
      "0          0         0.9717\n",
      "           1         0.0283\n",
      "1          0         0.9032\n",
      "           1         0.0968\n",
      "Name: target, dtype: float64\n",
      "\n",
      "Correlation with target: 0.0447\n"
     ]
    }
   ],
   "source": [
    "display_stats(train, 'CholCheck', 'target')"
   ]
  },
  {
   "cell_type": "code",
   "execution_count": 12,
   "id": "22fed25c",
   "metadata": {
    "execution": {
     "iopub.execute_input": "2022-02-25T10:45:33.835554Z",
     "iopub.status.busy": "2022-02-25T10:45:33.834968Z",
     "iopub.status.idle": "2022-02-25T10:45:33.843211Z",
     "shell.execute_reply": "2022-02-25T10:45:33.843753Z",
     "shell.execute_reply.started": "2022-02-25T10:27:13.639821Z"
    },
    "papermill": {
     "duration": 0.055159,
     "end_time": "2022-02-25T10:45:33.843917",
     "exception": false,
     "start_time": "2022-02-25T10:45:33.788758",
     "status": "completed"
    },
    "tags": []
   },
   "outputs": [
    {
     "data": {
      "text/plain": [
       "0.08697725675980131"
      ]
     },
     "execution_count": 12,
     "metadata": {},
     "output_type": "execute_result"
    }
   ],
   "source": [
    "train['HighChol'].corr(train['CholCheck'])"
   ]
  },
  {
   "cell_type": "markdown",
   "id": "875fc462",
   "metadata": {
    "papermill": {
     "duration": 0.044344,
     "end_time": "2022-02-25T10:45:33.933030",
     "exception": false,
     "start_time": "2022-02-25T10:45:33.888686",
     "status": "completed"
    },
    "tags": []
   },
   "source": [
    "### Smoker"
   ]
  },
  {
   "cell_type": "code",
   "execution_count": 13,
   "id": "bb273a66",
   "metadata": {
    "execution": {
     "iopub.execute_input": "2022-02-25T10:45:34.032368Z",
     "iopub.status.busy": "2022-02-25T10:45:34.031680Z",
     "iopub.status.idle": "2022-02-25T10:45:34.053541Z",
     "shell.execute_reply": "2022-02-25T10:45:34.054369Z",
     "shell.execute_reply.started": "2022-02-25T10:27:13.649947Z"
    },
    "papermill": {
     "duration": 0.075605,
     "end_time": "2022-02-25T10:45:34.054585",
     "exception": false,
     "start_time": "2022-02-25T10:45:33.978980",
     "status": "completed"
    },
    "tags": []
   },
   "outputs": [
    {
     "name": "stdout",
     "output_type": "stream",
     "text": [
      "Relative frequency:\n",
      "0    0.5569\n",
      "1    0.4431\n",
      "Name: Smoker, dtype: float64\n",
      "\n",
      "Target distribution grouped by Smoker:\n",
      "Smoker  target\n",
      "0       0         0.9357\n",
      "        1         0.0643\n",
      "1       0         0.8682\n",
      "        1         0.1318\n",
      "Name: target, dtype: float64\n",
      "\n",
      "Correlation with target: 0.1147\n"
     ]
    }
   ],
   "source": [
    "display_stats(train, 'Smoker', 'target')"
   ]
  },
  {
   "cell_type": "markdown",
   "id": "de382b9c",
   "metadata": {
    "papermill": {
     "duration": 0.045122,
     "end_time": "2022-02-25T10:45:34.144766",
     "exception": false,
     "start_time": "2022-02-25T10:45:34.099644",
     "status": "completed"
    },
    "tags": []
   },
   "source": [
    "### Stroke"
   ]
  },
  {
   "cell_type": "code",
   "execution_count": 14,
   "id": "68517aa2",
   "metadata": {
    "execution": {
     "iopub.execute_input": "2022-02-25T10:45:34.243033Z",
     "iopub.status.busy": "2022-02-25T10:45:34.242421Z",
     "iopub.status.idle": "2022-02-25T10:45:34.260558Z",
     "shell.execute_reply": "2022-02-25T10:45:34.261160Z",
     "shell.execute_reply.started": "2022-02-25T10:27:13.675082Z"
    },
    "papermill": {
     "duration": 0.070192,
     "end_time": "2022-02-25T10:45:34.261328",
     "exception": false,
     "start_time": "2022-02-25T10:45:34.191136",
     "status": "completed"
    },
    "tags": []
   },
   "outputs": [
    {
     "name": "stdout",
     "output_type": "stream",
     "text": [
      "Relative frequency:\n",
      "0    0.9597\n",
      "1    0.0403\n",
      "Name: Stroke, dtype: float64\n",
      "\n",
      "Target distribution grouped by Stroke:\n",
      "Stroke  target\n",
      "0       0         0.9178\n",
      "        1         0.0822\n",
      "1       0         0.6205\n",
      "        1         0.3795\n",
      "Name: target, dtype: float64\n",
      "\n",
      "Correlation with target: 0.2001\n"
     ]
    }
   ],
   "source": [
    "display_stats(train, 'Stroke', 'target')"
   ]
  },
  {
   "cell_type": "markdown",
   "id": "2ca41c5a",
   "metadata": {
    "papermill": {
     "duration": 0.044429,
     "end_time": "2022-02-25T10:45:34.350405",
     "exception": false,
     "start_time": "2022-02-25T10:45:34.305976",
     "status": "completed"
    },
    "tags": []
   },
   "source": [
    "### PhysActivity"
   ]
  },
  {
   "cell_type": "code",
   "execution_count": 15,
   "id": "3b55c17b",
   "metadata": {
    "execution": {
     "iopub.execute_input": "2022-02-25T10:45:34.445320Z",
     "iopub.status.busy": "2022-02-25T10:45:34.444402Z",
     "iopub.status.idle": "2022-02-25T10:45:34.468880Z",
     "shell.execute_reply": "2022-02-25T10:45:34.469947Z",
     "shell.execute_reply.started": "2022-02-25T10:27:13.698543Z"
    },
    "papermill": {
     "duration": 0.074594,
     "end_time": "2022-02-25T10:45:34.470216",
     "exception": false,
     "start_time": "2022-02-25T10:45:34.395622",
     "status": "completed"
    },
    "tags": []
   },
   "outputs": [
    {
     "name": "stdout",
     "output_type": "stream",
     "text": [
      "Relative frequency:\n",
      "0    0.2437\n",
      "1    0.7563\n",
      "Name: PhysActivity, dtype: float64\n",
      "\n",
      "Target distribution grouped by PhysActivity:\n",
      "PhysActivity  target\n",
      "0             0         0.8621\n",
      "              1         0.1379\n",
      "1             0         0.9199\n",
      "              1         0.0801\n",
      "Name: target, dtype: float64\n",
      "\n",
      "Correlation with target: -0.0850\n"
     ]
    }
   ],
   "source": [
    "display_stats(train, 'PhysActivity', 'target')"
   ]
  },
  {
   "cell_type": "markdown",
   "id": "5c10f884",
   "metadata": {
    "papermill": {
     "duration": 0.04558,
     "end_time": "2022-02-25T10:45:34.561878",
     "exception": false,
     "start_time": "2022-02-25T10:45:34.516298",
     "status": "completed"
    },
    "tags": []
   },
   "source": [
    "### Fruits, Veggies"
   ]
  },
  {
   "cell_type": "code",
   "execution_count": 16,
   "id": "0f9007b5",
   "metadata": {
    "execution": {
     "iopub.execute_input": "2022-02-25T10:45:34.656504Z",
     "iopub.status.busy": "2022-02-25T10:45:34.655940Z",
     "iopub.status.idle": "2022-02-25T10:45:34.681981Z",
     "shell.execute_reply": "2022-02-25T10:45:34.681344Z",
     "shell.execute_reply.started": "2022-02-25T10:27:13.723637Z"
    },
    "papermill": {
     "duration": 0.075374,
     "end_time": "2022-02-25T10:45:34.682124",
     "exception": false,
     "start_time": "2022-02-25T10:45:34.606750",
     "status": "completed"
    },
    "tags": []
   },
   "outputs": [
    {
     "name": "stdout",
     "output_type": "stream",
     "text": [
      "Relative frequency:\n",
      "0    0.3659\n",
      "1    0.6341\n",
      "Name: Fruits, dtype: float64\n",
      "\n",
      "Target distribution grouped by Fruits:\n",
      "Fruits  target\n",
      "0       0         0.8979\n",
      "        1         0.1021\n",
      "1       0         0.9104\n",
      "        1         0.0896\n",
      "Name: target, dtype: float64\n",
      "\n",
      "Correlation with target: -0.0205\n"
     ]
    }
   ],
   "source": [
    "display_stats(train, 'Fruits', 'target')"
   ]
  },
  {
   "cell_type": "code",
   "execution_count": 17,
   "id": "e8b7df65",
   "metadata": {
    "execution": {
     "iopub.execute_input": "2022-02-25T10:45:34.778774Z",
     "iopub.status.busy": "2022-02-25T10:45:34.778159Z",
     "iopub.status.idle": "2022-02-25T10:45:34.802490Z",
     "shell.execute_reply": "2022-02-25T10:45:34.803027Z",
     "shell.execute_reply.started": "2022-02-25T10:27:13.750287Z"
    },
    "papermill": {
     "duration": 0.074798,
     "end_time": "2022-02-25T10:45:34.803206",
     "exception": false,
     "start_time": "2022-02-25T10:45:34.728408",
     "status": "completed"
    },
    "tags": []
   },
   "outputs": [
    {
     "name": "stdout",
     "output_type": "stream",
     "text": [
      "Relative frequency:\n",
      "0    0.1888\n",
      "1    0.8112\n",
      "Name: Veggies, dtype: float64\n",
      "\n",
      "Target distribution grouped by Veggies:\n",
      "Veggies  target\n",
      "0        0         0.8819\n",
      "         1         0.1181\n",
      "1        0         0.9114\n",
      "         1         0.0886\n",
      "Name: target, dtype: float64\n",
      "\n",
      "Correlation with target: -0.0395\n"
     ]
    }
   ],
   "source": [
    "display_stats(train, 'Veggies', 'target')"
   ]
  },
  {
   "cell_type": "code",
   "execution_count": 18,
   "id": "863a53bb",
   "metadata": {
    "execution": {
     "iopub.execute_input": "2022-02-25T10:45:34.901923Z",
     "iopub.status.busy": "2022-02-25T10:45:34.901275Z",
     "iopub.status.idle": "2022-02-25T10:45:34.914110Z",
     "shell.execute_reply": "2022-02-25T10:45:34.914551Z",
     "shell.execute_reply.started": "2022-02-25T10:27:13.775678Z"
    },
    "papermill": {
     "duration": 0.065549,
     "end_time": "2022-02-25T10:45:34.914739",
     "exception": false,
     "start_time": "2022-02-25T10:45:34.849190",
     "status": "completed"
    },
    "tags": []
   },
   "outputs": [
    {
     "data": {
      "text/plain": [
       "0.6796977068973284"
      ]
     },
     "execution_count": 18,
     "metadata": {},
     "output_type": "execute_result"
    }
   ],
   "source": [
    "len(train[train['Fruits'] == train['Veggies']]) / len(train)"
   ]
  },
  {
   "cell_type": "markdown",
   "id": "7ae7ecfb",
   "metadata": {
    "papermill": {
     "duration": 0.046297,
     "end_time": "2022-02-25T10:45:35.008195",
     "exception": false,
     "start_time": "2022-02-25T10:45:34.961898",
     "status": "completed"
    },
    "tags": []
   },
   "source": [
    "### HvyAlcoholConsump"
   ]
  },
  {
   "cell_type": "code",
   "execution_count": 19,
   "id": "e19ed023",
   "metadata": {
    "execution": {
     "iopub.execute_input": "2022-02-25T10:45:35.112530Z",
     "iopub.status.busy": "2022-02-25T10:45:35.111889Z",
     "iopub.status.idle": "2022-02-25T10:45:35.131481Z",
     "shell.execute_reply": "2022-02-25T10:45:35.130969Z",
     "shell.execute_reply.started": "2022-02-25T10:27:13.790177Z"
    },
    "papermill": {
     "duration": 0.074666,
     "end_time": "2022-02-25T10:45:35.131615",
     "exception": false,
     "start_time": "2022-02-25T10:45:35.056949",
     "status": "completed"
    },
    "tags": []
   },
   "outputs": [
    {
     "name": "stdout",
     "output_type": "stream",
     "text": [
      "Relative frequency:\n",
      "0    0.944\n",
      "1    0.056\n",
      "Name: HvyAlcoholConsump, dtype: float64\n",
      "\n",
      "Target distribution grouped by HvyAlcoholConsump:\n",
      "HvyAlcoholConsump  target\n",
      "0                  0         0.9037\n",
      "                   1         0.0963\n",
      "1                  0         0.9408\n",
      "                   1         0.0592\n",
      "Name: target, dtype: float64\n",
      "\n",
      "Correlation with target: -0.0292\n"
     ]
    }
   ],
   "source": [
    "display_stats(train, 'HvyAlcoholConsump', 'target')"
   ]
  },
  {
   "cell_type": "markdown",
   "id": "e28af2b6",
   "metadata": {
    "papermill": {
     "duration": 0.046324,
     "end_time": "2022-02-25T10:45:35.226159",
     "exception": false,
     "start_time": "2022-02-25T10:45:35.179835",
     "status": "completed"
    },
    "tags": []
   },
   "source": [
    "### AnyHealthcare, NoDocbcCost"
   ]
  },
  {
   "cell_type": "code",
   "execution_count": 20,
   "id": "18bdc2c4",
   "metadata": {
    "execution": {
     "iopub.execute_input": "2022-02-25T10:45:35.347882Z",
     "iopub.status.busy": "2022-02-25T10:45:35.346902Z",
     "iopub.status.idle": "2022-02-25T10:45:35.373339Z",
     "shell.execute_reply": "2022-02-25T10:45:35.373888Z",
     "shell.execute_reply.started": "2022-02-25T10:27:13.812101Z"
    },
    "papermill": {
     "duration": 0.099712,
     "end_time": "2022-02-25T10:45:35.374106",
     "exception": false,
     "start_time": "2022-02-25T10:45:35.274394",
     "status": "completed"
    },
    "tags": []
   },
   "outputs": [
    {
     "name": "stdout",
     "output_type": "stream",
     "text": [
      "Relative frequency:\n",
      "0    0.0496\n",
      "1    0.9504\n",
      "Name: AnyHealthcare, dtype: float64\n",
      "\n",
      "Target distribution grouped by AnyHealthcare:\n",
      "AnyHealthcare  target\n",
      "0              0         0.9316\n",
      "               1         0.0684\n",
      "1              0         0.9045\n",
      "               1         0.0955\n",
      "Name: target, dtype: float64\n",
      "\n",
      "Correlation with target: 0.0201\n"
     ]
    }
   ],
   "source": [
    "display_stats(train, 'AnyHealthcare', 'target')"
   ]
  },
  {
   "cell_type": "code",
   "execution_count": 21,
   "id": "12dc0430",
   "metadata": {
    "execution": {
     "iopub.execute_input": "2022-02-25T10:45:35.499044Z",
     "iopub.status.busy": "2022-02-25T10:45:35.498116Z",
     "iopub.status.idle": "2022-02-25T10:45:35.519583Z",
     "shell.execute_reply": "2022-02-25T10:45:35.520323Z",
     "shell.execute_reply.started": "2022-02-25T10:27:13.835482Z"
    },
    "papermill": {
     "duration": 0.079713,
     "end_time": "2022-02-25T10:45:35.520513",
     "exception": false,
     "start_time": "2022-02-25T10:45:35.440800",
     "status": "completed"
    },
    "tags": []
   },
   "outputs": [
    {
     "name": "stdout",
     "output_type": "stream",
     "text": [
      "Relative frequency:\n",
      "0    0.9155\n",
      "1    0.0845\n",
      "Name: NoDocbcCost, dtype: float64\n",
      "\n",
      "Target distribution grouped by NoDocbcCost:\n",
      "NoDocbcCost  target\n",
      "0            0         0.9086\n",
      "             1         0.0914\n",
      "1            0         0.8754\n",
      "             1         0.1246\n",
      "Name: target, dtype: float64\n",
      "\n",
      "Correlation with target: 0.0316\n"
     ]
    }
   ],
   "source": [
    "display_stats(train, 'NoDocbcCost', 'target')"
   ]
  },
  {
   "cell_type": "markdown",
   "id": "bcfae13a",
   "metadata": {
    "papermill": {
     "duration": 0.058038,
     "end_time": "2022-02-25T10:45:35.635197",
     "exception": false,
     "start_time": "2022-02-25T10:45:35.577159",
     "status": "completed"
    },
    "tags": []
   },
   "source": [
    "### DiffWalk"
   ]
  },
  {
   "cell_type": "code",
   "execution_count": 22,
   "id": "d645b225",
   "metadata": {
    "execution": {
     "iopub.execute_input": "2022-02-25T10:45:35.734996Z",
     "iopub.status.busy": "2022-02-25T10:45:35.733716Z",
     "iopub.status.idle": "2022-02-25T10:45:35.759488Z",
     "shell.execute_reply": "2022-02-25T10:45:35.760039Z",
     "shell.execute_reply.started": "2022-02-25T10:27:13.857294Z"
    },
    "papermill": {
     "duration": 0.077245,
     "end_time": "2022-02-25T10:45:35.760210",
     "exception": false,
     "start_time": "2022-02-25T10:45:35.682965",
     "status": "completed"
    },
    "tags": []
   },
   "outputs": [
    {
     "name": "stdout",
     "output_type": "stream",
     "text": [
      "Relative frequency:\n",
      "0    0.831\n",
      "1    0.169\n",
      "Name: DiffWalk, dtype: float64\n",
      "\n",
      "Target distribution grouped by DiffWalk:\n",
      "DiffWalk  target\n",
      "0         0         0.9335\n",
      "          1         0.0665\n",
      "1         0         0.7697\n",
      "          1         0.2303\n",
      "Name: target, dtype: float64\n",
      "\n",
      "Correlation with target: 0.2102\n"
     ]
    }
   ],
   "source": [
    "display_stats(train, 'DiffWalk', 'target')"
   ]
  },
  {
   "cell_type": "markdown",
   "id": "99a930c2",
   "metadata": {
    "papermill": {
     "duration": 0.049126,
     "end_time": "2022-02-25T10:45:35.857806",
     "exception": false,
     "start_time": "2022-02-25T10:45:35.808680",
     "status": "completed"
    },
    "tags": []
   },
   "source": [
    "### Sex"
   ]
  },
  {
   "cell_type": "code",
   "execution_count": 23,
   "id": "7236d11b",
   "metadata": {
    "execution": {
     "iopub.execute_input": "2022-02-25T10:45:35.958206Z",
     "iopub.status.busy": "2022-02-25T10:45:35.957230Z",
     "iopub.status.idle": "2022-02-25T10:45:35.983718Z",
     "shell.execute_reply": "2022-02-25T10:45:35.983089Z",
     "shell.execute_reply.started": "2022-02-25T10:27:13.879392Z"
    },
    "papermill": {
     "duration": 0.077758,
     "end_time": "2022-02-25T10:45:35.983885",
     "exception": false,
     "start_time": "2022-02-25T10:45:35.906127",
     "status": "completed"
    },
    "tags": []
   },
   "outputs": [
    {
     "name": "stdout",
     "output_type": "stream",
     "text": [
      "Relative frequency:\n",
      "0    0.5593\n",
      "1    0.4407\n",
      "Name: Sex, dtype: float64\n",
      "\n",
      "Target distribution grouped by Sex:\n",
      "Sex  target\n",
      "0    0         0.9281\n",
      "     1         0.0719\n",
      "1    0         0.8776\n",
      "     1         0.1224\n",
      "Name: target, dtype: float64\n",
      "\n",
      "Correlation with target: 0.0858\n"
     ]
    }
   ],
   "source": [
    "display_stats(train, 'Sex', 'target')"
   ]
  },
  {
   "cell_type": "markdown",
   "id": "ad3fbcad",
   "metadata": {
    "papermill": {
     "duration": 0.050719,
     "end_time": "2022-02-25T10:45:36.083685",
     "exception": false,
     "start_time": "2022-02-25T10:45:36.032966",
     "status": "completed"
    },
    "tags": []
   },
   "source": [
    "# Higher cardinality categorical features"
   ]
  },
  {
   "cell_type": "markdown",
   "id": "f4e24616",
   "metadata": {
    "papermill": {
     "duration": 0.050937,
     "end_time": "2022-02-25T10:45:36.183274",
     "exception": false,
     "start_time": "2022-02-25T10:45:36.132337",
     "status": "completed"
    },
    "tags": []
   },
   "source": [
    "### Diabetes\n",
    "(0: no diabetes, 1: pre-diabetes, 2: diabetes)"
   ]
  },
  {
   "cell_type": "code",
   "execution_count": 24,
   "id": "8db12164",
   "metadata": {
    "execution": {
     "iopub.execute_input": "2022-02-25T10:45:36.287724Z",
     "iopub.status.busy": "2022-02-25T10:45:36.286723Z",
     "iopub.status.idle": "2022-02-25T10:45:36.312082Z",
     "shell.execute_reply": "2022-02-25T10:45:36.312526Z",
     "shell.execute_reply.started": "2022-02-25T10:27:13.901372Z"
    },
    "papermill": {
     "duration": 0.079809,
     "end_time": "2022-02-25T10:45:36.312709",
     "exception": false,
     "start_time": "2022-02-25T10:45:36.232900",
     "status": "completed"
    },
    "tags": []
   },
   "outputs": [
    {
     "name": "stdout",
     "output_type": "stream",
     "text": [
      "Relative frequency:\n",
      "0    0.8418\n",
      "1    0.0181\n",
      "2    0.1401\n",
      "Name: Diabetes, dtype: float64\n",
      "\n",
      "Target distribution grouped by Diabetes:\n",
      "Diabetes  target\n",
      "0         0         0.9283\n",
      "          1         0.0717\n",
      "1         0         0.8651\n",
      "          1         0.1349\n",
      "2         0         0.7761\n",
      "          1         0.2239\n",
      "Name: target, dtype: float64\n",
      "\n",
      "Correlation with target: 0.1815\n"
     ]
    }
   ],
   "source": [
    "display_stats(train, 'Diabetes', 'target')"
   ]
  },
  {
   "cell_type": "markdown",
   "id": "eda8a627",
   "metadata": {
    "papermill": {
     "duration": 0.048749,
     "end_time": "2022-02-25T10:45:36.412181",
     "exception": false,
     "start_time": "2022-02-25T10:45:36.363432",
     "status": "completed"
    },
    "tags": []
   },
   "source": [
    "### GenHlth\n",
    "(1: Excellent to 5: Poor)"
   ]
  },
  {
   "cell_type": "code",
   "execution_count": 25,
   "id": "0607eb77",
   "metadata": {
    "execution": {
     "iopub.execute_input": "2022-02-25T10:45:36.515262Z",
     "iopub.status.busy": "2022-02-25T10:45:36.514299Z",
     "iopub.status.idle": "2022-02-25T10:45:36.545102Z",
     "shell.execute_reply": "2022-02-25T10:45:36.544233Z",
     "shell.execute_reply.started": "2022-02-25T10:27:13.924983Z"
    },
    "papermill": {
     "duration": 0.083837,
     "end_time": "2022-02-25T10:45:36.545291",
     "exception": false,
     "start_time": "2022-02-25T10:45:36.461454",
     "status": "completed"
    },
    "tags": []
   },
   "outputs": [
    {
     "name": "stdout",
     "output_type": "stream",
     "text": [
      "Relative frequency:\n",
      "1    0.1783\n",
      "2    0.3514\n",
      "3    0.2978\n",
      "4    0.1246\n",
      "5    0.0479\n",
      "Name: GenHlth, dtype: float64\n",
      "\n",
      "Target distribution grouped by GenHlth:\n",
      "GenHlth  target\n",
      "1        0         0.9775\n",
      "         1         0.0225\n",
      "2        0         0.9535\n",
      "         1         0.0465\n",
      "3        0         0.8959\n",
      "         1         0.1041\n",
      "4        0         0.7859\n",
      "         1         0.2141\n",
      "5        0         0.6626\n",
      "         1         0.3374\n",
      "Name: target, dtype: float64\n",
      "\n",
      "Correlation with target: 0.2580\n"
     ]
    }
   ],
   "source": [
    "display_stats(train, 'GenHlth', 'target')"
   ]
  },
  {
   "cell_type": "code",
   "execution_count": 26,
   "id": "af94d443",
   "metadata": {
    "execution": {
     "iopub.execute_input": "2022-02-25T10:45:36.654141Z",
     "iopub.status.busy": "2022-02-25T10:45:36.646848Z",
     "iopub.status.idle": "2022-02-25T10:45:36.907051Z",
     "shell.execute_reply": "2022-02-25T10:45:36.907572Z",
     "shell.execute_reply.started": "2022-02-25T10:27:13.953765Z"
    },
    "papermill": {
     "duration": 0.312756,
     "end_time": "2022-02-25T10:45:36.907757",
     "exception": false,
     "start_time": "2022-02-25T10:45:36.595001",
     "status": "completed"
    },
    "tags": []
   },
   "outputs": [
    {
     "data": {
      "text/plain": [
       "<AxesSubplot:xlabel='target', ylabel='count'>"
      ]
     },
     "execution_count": 26,
     "metadata": {},
     "output_type": "execute_result"
    },
    {
     "data": {
      "image/png": "[encoded data removed]",
      "text/plain": [
       "<Figure size 432x288 with 1 Axes>"
      ]
     },
     "metadata": {},
     "output_type": "display_data"
    }
   ],
   "source": [
    "sns.countplot(x='target', hue='GenHlth', data=train)"
   ]
  },
  {
   "cell_type": "markdown",
   "id": "4aba4b72",
   "metadata": {
    "papermill": {
     "duration": 0.051132,
     "end_time": "2022-02-25T10:45:37.009870",
     "exception": false,
     "start_time": "2022-02-25T10:45:36.958738",
     "status": "completed"
    },
    "tags": []
   },
   "source": [
    "### Age\n",
    "(18-24: 1, 25-29: 2, 30-34: 3,...., 75-79: 12, 80+: 13)"
   ]
  },
  {
   "cell_type": "markdown",
   "id": "afd19220",
   "metadata": {
    "papermill": {
     "duration": 0.049113,
     "end_time": "2022-02-25T10:45:37.109067",
     "exception": false,
     "start_time": "2022-02-25T10:45:37.059954",
     "status": "completed"
    },
    "tags": []
   },
   "source": [
    "We can treat this as an ordinal categorical variable as well as a continous variable."
   ]
  },
  {
   "cell_type": "code",
   "execution_count": 27,
   "id": "a3d872e3",
   "metadata": {
    "execution": {
     "iopub.execute_input": "2022-02-25T10:45:37.219129Z",
     "iopub.status.busy": "2022-02-25T10:45:37.216822Z",
     "iopub.status.idle": "2022-02-25T10:45:37.225470Z",
     "shell.execute_reply": "2022-02-25T10:45:37.225918Z",
     "shell.execute_reply.started": "2022-02-25T10:27:14.258179Z"
    },
    "papermill": {
     "duration": 0.066107,
     "end_time": "2022-02-25T10:45:37.226090",
     "exception": false,
     "start_time": "2022-02-25T10:45:37.159983",
     "status": "completed"
    },
    "tags": []
   },
   "outputs": [
    {
     "data": {
      "text/plain": [
       "([1, 2, 3, 4, 5, 6, 7, 8, 9, 10, 11, 12, 13],\n",
       " [1, 2, 3, 4, 5, 6, 7, 8, 9, 10, 11, 12, 13])"
      ]
     },
     "execution_count": 27,
     "metadata": {},
     "output_type": "execute_result"
    }
   ],
   "source": [
    "sorted(train['Age'].unique()), sorted(test['Age'].unique())"
   ]
  },
  {
   "cell_type": "code",
   "execution_count": 28,
   "id": "7f047b48",
   "metadata": {
    "execution": {
     "iopub.execute_input": "2022-02-25T10:45:37.335082Z",
     "iopub.status.busy": "2022-02-25T10:45:37.334412Z",
     "iopub.status.idle": "2022-02-25T10:45:37.337398Z",
     "shell.execute_reply": "2022-02-25T10:45:37.337854Z",
     "shell.execute_reply.started": "2022-02-25T10:27:14.270283Z"
    },
    "papermill": {
     "duration": 0.06183,
     "end_time": "2022-02-25T10:45:37.338015",
     "exception": false,
     "start_time": "2022-02-25T10:45:37.276185",
     "status": "completed"
    },
    "tags": []
   },
   "outputs": [
    {
     "data": {
      "text/plain": [
       "1     0.0222\n",
       "2     0.0299\n",
       "3     0.0444\n",
       "4     0.0545\n",
       "5     0.0635\n",
       "6     0.0779\n",
       "7     0.1037\n",
       "8     0.1223\n",
       "9     0.1312\n",
       "10    0.1262\n",
       "11    0.0924\n",
       "12    0.0629\n",
       "13    0.0689\n",
       "Name: Age, dtype: float64"
      ]
     },
     "execution_count": 28,
     "metadata": {},
     "output_type": "execute_result"
    }
   ],
   "source": [
    "train['Age'].value_counts(normalize=True).sort_index()"
   ]
  },
  {
   "cell_type": "code",
   "execution_count": 29,
   "id": "a7436e21",
   "metadata": {
    "execution": {
     "iopub.execute_input": "2022-02-25T10:45:37.443597Z",
     "iopub.status.busy": "2022-02-25T10:45:37.442966Z",
     "iopub.status.idle": "2022-02-25T10:45:37.787487Z",
     "shell.execute_reply": "2022-02-25T10:45:37.787967Z",
     "shell.execute_reply.started": "2022-02-25T10:27:14.280374Z"
    },
    "papermill": {
     "duration": 0.400294,
     "end_time": "2022-02-25T10:45:37.788154",
     "exception": false,
     "start_time": "2022-02-25T10:45:37.387860",
     "status": "completed"
    },
    "tags": []
   },
   "outputs": [
    {
     "data": {
      "text/plain": [
       "<AxesSubplot:xlabel='Age', ylabel='count'>"
      ]
     },
     "execution_count": 29,
     "metadata": {},
     "output_type": "execute_result"
    },
    {
     "data": {
      "image/png": "[encoded data removed]",
      "text/plain": [
       "<Figure size 720x288 with 1 Axes>"
      ]
     },
     "metadata": {},
     "output_type": "display_data"
    }
   ],
   "source": [
    "plt.figure(figsize=(10,4))\n",
    "sns.countplot(x='Age', data=train, hue='target')"
   ]
  },
  {
   "cell_type": "markdown",
   "id": "b5195de0",
   "metadata": {
    "papermill": {
     "duration": 0.050752,
     "end_time": "2022-02-25T10:45:37.890129",
     "exception": false,
     "start_time": "2022-02-25T10:45:37.839377",
     "status": "completed"
    },
    "tags": []
   },
   "source": [
    "### Education"
   ]
  },
  {
   "cell_type": "code",
   "execution_count": 30,
   "id": "0c8f5213",
   "metadata": {
    "execution": {
     "iopub.execute_input": "2022-02-25T10:45:37.995415Z",
     "iopub.status.busy": "2022-02-25T10:45:37.994745Z",
     "iopub.status.idle": "2022-02-25T10:45:38.024400Z",
     "shell.execute_reply": "2022-02-25T10:45:38.023812Z",
     "shell.execute_reply.started": "2022-02-25T10:27:14.672508Z"
    },
    "papermill": {
     "duration": 0.083288,
     "end_time": "2022-02-25T10:45:38.024532",
     "exception": false,
     "start_time": "2022-02-25T10:45:37.941244",
     "status": "completed"
    },
    "tags": []
   },
   "outputs": [
    {
     "name": "stdout",
     "output_type": "stream",
     "text": [
      "Relative frequency:\n",
      "1    0.0007\n",
      "2    0.0161\n",
      "3    0.0374\n",
      "4    0.2477\n",
      "5    0.2759\n",
      "6    0.4222\n",
      "Name: Education, dtype: float64\n",
      "\n",
      "Target distribution grouped by Education:\n",
      "Education  target\n",
      "1          0         0.8095\n",
      "           1         0.1905\n",
      "2          0         0.8090\n",
      "           1         0.1910\n",
      "3          0         0.8346\n",
      "           1         0.1654\n",
      "4          0         0.8809\n",
      "           1         0.1191\n",
      "5          0         0.9005\n",
      "           1         0.0995\n",
      "6          0         0.9341\n",
      "           1         0.0659\n",
      "Name: target, dtype: float64\n",
      "\n",
      "Correlation with target: -0.0984\n"
     ]
    }
   ],
   "source": [
    "display_stats(train, 'Education', 'target')"
   ]
  },
  {
   "cell_type": "code",
   "execution_count": 31,
   "id": "143f3c51",
   "metadata": {
    "execution": {
     "iopub.execute_input": "2022-02-25T10:45:38.133069Z",
     "iopub.status.busy": "2022-02-25T10:45:38.132470Z",
     "iopub.status.idle": "2022-02-25T10:45:38.371656Z",
     "shell.execute_reply": "2022-02-25T10:45:38.372262Z",
     "shell.execute_reply.started": "2022-02-25T10:27:14.701452Z"
    },
    "papermill": {
     "duration": 0.294637,
     "end_time": "2022-02-25T10:45:38.372426",
     "exception": false,
     "start_time": "2022-02-25T10:45:38.077789",
     "status": "completed"
    },
    "tags": []
   },
   "outputs": [
    {
     "data": {
      "text/plain": [
       "<AxesSubplot:xlabel='Education', ylabel='count'>"
      ]
     },
     "execution_count": 31,
     "metadata": {},
     "output_type": "execute_result"
    },
    {
     "data": {
      "image/png": "[encoded data removed]",
      "text/plain": [
       "<Figure size 720x288 with 1 Axes>"
      ]
     },
     "metadata": {},
     "output_type": "display_data"
    }
   ],
   "source": [
    "plt.figure(figsize=(10,4))\n",
    "sns.countplot(x='Education', data=train, hue='target')"
   ]
  },
  {
   "cell_type": "markdown",
   "id": "c58472c4",
   "metadata": {
    "papermill": {
     "duration": 0.053595,
     "end_time": "2022-02-25T10:45:38.479618",
     "exception": false,
     "start_time": "2022-02-25T10:45:38.426023",
     "status": "completed"
    },
    "tags": []
   },
   "source": [
    "### Income"
   ]
  },
  {
   "cell_type": "code",
   "execution_count": 32,
   "id": "5f3afb8b",
   "metadata": {
    "execution": {
     "iopub.execute_input": "2022-02-25T10:45:38.590811Z",
     "iopub.status.busy": "2022-02-25T10:45:38.590175Z",
     "iopub.status.idle": "2022-02-25T10:45:38.617388Z",
     "shell.execute_reply": "2022-02-25T10:45:38.617944Z",
     "shell.execute_reply.started": "2022-02-25T10:27:14.993696Z"
    },
    "papermill": {
     "duration": 0.085901,
     "end_time": "2022-02-25T10:45:38.618114",
     "exception": false,
     "start_time": "2022-02-25T10:45:38.532213",
     "status": "completed"
    },
    "tags": []
   },
   "outputs": [
    {
     "name": "stdout",
     "output_type": "stream",
     "text": [
      "Relative frequency:\n",
      "1    0.0387\n",
      "2    0.0466\n",
      "3    0.0636\n",
      "4    0.0803\n",
      "5    0.1016\n",
      "6    0.1437\n",
      "7    0.1703\n",
      "8    0.3554\n",
      "Name: Income, dtype: float64\n",
      "\n",
      "Target distribution grouped by Income:\n",
      "Income  target\n",
      "1       0         0.8393\n",
      "        1         0.1607\n",
      "2       0         0.8124\n",
      "        1         0.1876\n",
      "3       0         0.8432\n",
      "        1         0.1568\n",
      "4       0         0.8596\n",
      "        1         0.1404\n",
      "5       0         0.8786\n",
      "        1         0.1214\n",
      "6       0         0.8994\n",
      "        1         0.1006\n",
      "7       0         0.9221\n",
      "        1         0.0779\n",
      "8       0         0.9495\n",
      "        1         0.0505\n",
      "Name: target, dtype: float64\n",
      "\n",
      "Correlation with target: -0.1424\n"
     ]
    }
   ],
   "source": [
    "display_stats(train, 'Income', 'target')"
   ]
  },
  {
   "cell_type": "code",
   "execution_count": 33,
   "id": "c7b3ba89",
   "metadata": {
    "execution": {
     "iopub.execute_input": "2022-02-25T10:45:38.730665Z",
     "iopub.status.busy": "2022-02-25T10:45:38.730059Z",
     "iopub.status.idle": "2022-02-25T10:45:38.991476Z",
     "shell.execute_reply": "2022-02-25T10:45:38.990989Z",
     "shell.execute_reply.started": "2022-02-25T10:27:15.024045Z"
    },
    "papermill": {
     "duration": 0.318236,
     "end_time": "2022-02-25T10:45:38.991614",
     "exception": false,
     "start_time": "2022-02-25T10:45:38.673378",
     "status": "completed"
    },
    "tags": []
   },
   "outputs": [
    {
     "data": {
      "text/plain": [
       "<AxesSubplot:xlabel='Income', ylabel='count'>"
      ]
     },
     "execution_count": 33,
     "metadata": {},
     "output_type": "execute_result"
    },
    {
     "data": {
      "image/png": "[encoded data removed]",
      "text/plain": [
       "<Figure size 720x288 with 1 Axes>"
      ]
     },
     "metadata": {},
     "output_type": "display_data"
    }
   ],
   "source": [
    "plt.figure(figsize=(10,4))\n",
    "sns.countplot(x='Income', data=train, hue='target')"
   ]
  },
  {
   "cell_type": "markdown",
   "id": "bdd2d550",
   "metadata": {
    "papermill": {
     "duration": 0.055583,
     "end_time": "2022-02-25T10:45:39.102227",
     "exception": false,
     "start_time": "2022-02-25T10:45:39.046644",
     "status": "completed"
    },
    "tags": []
   },
   "source": [
    "# Numerical features"
   ]
  },
  {
   "cell_type": "markdown",
   "id": "d13b821b",
   "metadata": {
    "papermill": {
     "duration": 0.055519,
     "end_time": "2022-02-25T10:45:39.211593",
     "exception": false,
     "start_time": "2022-02-25T10:45:39.156074",
     "status": "completed"
    },
    "tags": []
   },
   "source": [
    "### BMI"
   ]
  },
  {
   "cell_type": "code",
   "execution_count": 34,
   "id": "f094abd2",
   "metadata": {
    "execution": {
     "iopub.execute_input": "2022-02-25T10:45:39.324438Z",
     "iopub.status.busy": "2022-02-25T10:45:39.323838Z",
     "iopub.status.idle": "2022-02-25T10:45:39.329175Z",
     "shell.execute_reply": "2022-02-25T10:45:39.329687Z",
     "shell.execute_reply.started": "2022-02-25T10:27:15.340036Z"
    },
    "papermill": {
     "duration": 0.06334,
     "end_time": "2022-02-25T10:45:39.329880",
     "exception": false,
     "start_time": "2022-02-25T10:45:39.266540",
     "status": "completed"
    },
    "tags": []
   },
   "outputs": [
    {
     "data": {
      "text/plain": [
       "(12, 98)"
      ]
     },
     "execution_count": 34,
     "metadata": {},
     "output_type": "execute_result"
    }
   ],
   "source": [
    "train['BMI'].min(), train['BMI'].max()"
   ]
  },
  {
   "cell_type": "code",
   "execution_count": 35,
   "id": "567d943c",
   "metadata": {
    "execution": {
     "iopub.execute_input": "2022-02-25T10:45:39.442074Z",
     "iopub.status.busy": "2022-02-25T10:45:39.441456Z",
     "iopub.status.idle": "2022-02-25T10:45:39.449045Z",
     "shell.execute_reply": "2022-02-25T10:45:39.448275Z",
     "shell.execute_reply.started": "2022-02-25T10:27:15.346164Z"
    },
    "papermill": {
     "duration": 0.064616,
     "end_time": "2022-02-25T10:45:39.449204",
     "exception": false,
     "start_time": "2022-02-25T10:45:39.384588",
     "status": "completed"
    },
    "tags": []
   },
   "outputs": [
    {
     "data": {
      "text/plain": [
       "(12, 98)"
      ]
     },
     "execution_count": 35,
     "metadata": {},
     "output_type": "execute_result"
    }
   ],
   "source": [
    "test['BMI'].min(), test['BMI'].max()"
   ]
  },
  {
   "cell_type": "code",
   "execution_count": 36,
   "id": "55f96b4a",
   "metadata": {
    "execution": {
     "iopub.execute_input": "2022-02-25T10:45:39.565422Z",
     "iopub.status.busy": "2022-02-25T10:45:39.564768Z",
     "iopub.status.idle": "2022-02-25T10:45:40.496341Z",
     "shell.execute_reply": "2022-02-25T10:45:40.496986Z",
     "shell.execute_reply.started": "2022-02-25T10:27:15.358396Z"
    },
    "papermill": {
     "duration": 0.992781,
     "end_time": "2022-02-25T10:45:40.497195",
     "exception": false,
     "start_time": "2022-02-25T10:45:39.504414",
     "status": "completed"
    },
    "tags": []
   },
   "outputs": [
    {
     "data": {
      "text/plain": [
       "<AxesSubplot:xlabel='BMI', ylabel='Density'>"
      ]
     },
     "execution_count": 36,
     "metadata": {},
     "output_type": "execute_result"
    },
    {
     "data": {
      "image/png": "[encoded data removed]",
      "text/plain": [
       "<Figure size 720x288 with 1 Axes>"
      ]
     },
     "metadata": {},
     "output_type": "display_data"
    }
   ],
   "source": [
    "plt.figure(figsize=(10,4))\n",
    "sns.kdeplot(x='BMI', data=train)"
   ]
  },
  {
   "cell_type": "markdown",
   "id": "367b9400",
   "metadata": {
    "papermill": {
     "duration": 0.063148,
     "end_time": "2022-02-25T10:45:40.617720",
     "exception": false,
     "start_time": "2022-02-25T10:45:40.554572",
     "status": "completed"
    },
    "tags": []
   },
   "source": [
    "### MentHlth, PhysHlth\n",
    "(between 0 to 31 - number of days mental/physical health felt poor)"
   ]
  },
  {
   "cell_type": "code",
   "execution_count": 37,
   "id": "6f47a256",
   "metadata": {
    "execution": {
     "iopub.execute_input": "2022-02-25T10:45:40.738469Z",
     "iopub.status.busy": "2022-02-25T10:45:40.737617Z",
     "iopub.status.idle": "2022-02-25T10:45:41.406568Z",
     "shell.execute_reply": "2022-02-25T10:45:41.405976Z",
     "shell.execute_reply.started": "2022-02-25T10:27:16.238798Z"
    },
    "papermill": {
     "duration": 0.731291,
     "end_time": "2022-02-25T10:45:41.406727",
     "exception": false,
     "start_time": "2022-02-25T10:45:40.675436",
     "status": "completed"
    },
    "tags": []
   },
   "outputs": [
    {
     "data": {
      "text/plain": [
       "<AxesSubplot:xlabel='MentHlth', ylabel='count'>"
      ]
     },
     "execution_count": 37,
     "metadata": {},
     "output_type": "execute_result"
    },
    {
     "data": {
      "image/png": "[encoded data removed]",
      "text/plain": [
       "<Figure size 720x288 with 1 Axes>"
      ]
     },
     "metadata": {},
     "output_type": "display_data"
    }
   ],
   "source": [
    "plt.figure(figsize=(10,4))\n",
    "sns.countplot(x='MentHlth', data=train, hue='target')"
   ]
  },
  {
   "cell_type": "code",
   "execution_count": 38,
   "id": "1fc7002c",
   "metadata": {
    "execution": {
     "iopub.execute_input": "2022-02-25T10:45:41.525828Z",
     "iopub.status.busy": "2022-02-25T10:45:41.525198Z",
     "iopub.status.idle": "2022-02-25T10:45:42.077182Z",
     "shell.execute_reply": "2022-02-25T10:45:42.077926Z",
     "shell.execute_reply.started": "2022-02-25T10:27:16.973950Z"
    },
    "papermill": {
     "duration": 0.612787,
     "end_time": "2022-02-25T10:45:42.078177",
     "exception": false,
     "start_time": "2022-02-25T10:45:41.465390",
     "status": "completed"
    },
    "tags": []
   },
   "outputs": [
    {
     "data": {
      "text/plain": [
       "<AxesSubplot:xlabel='PhysHlth', ylabel='count'>"
      ]
     },
     "execution_count": 38,
     "metadata": {},
     "output_type": "execute_result"
    },
    {
     "data": {
      "image/png": "[encoded data removed]",
      "text/plain": [
       "<Figure size 720x288 with 1 Axes>"
      ]
     },
     "metadata": {},
     "output_type": "display_data"
    }
   ],
   "source": [
    "plt.figure(figsize=(10,4))\n",
    "sns.countplot(x='PhysHlth', data=train, hue='target')"
   ]
  },
  {
   "cell_type": "markdown",
   "id": "ae7ab7eb",
   "metadata": {
    "papermill": {
     "duration": 0.06642,
     "end_time": "2022-02-25T10:45:42.223387",
     "exception": false,
     "start_time": "2022-02-25T10:45:42.156967",
     "status": "completed"
    },
    "tags": []
   },
   "source": [
    "Both these columns have extremely skewed proportions.  \n",
    "From experience, these could have been insightful features, but may not be so useful while statistical modelling."
   ]
  },
  {
   "cell_type": "markdown",
   "id": "b751ffc4",
   "metadata": {
    "papermill": {
     "duration": 0.059188,
     "end_time": "2022-02-25T10:45:42.341582",
     "exception": false,
     "start_time": "2022-02-25T10:45:42.282394",
     "status": "completed"
    },
    "tags": []
   },
   "source": [
    "# Feature Importances"
   ]
  },
  {
   "cell_type": "code",
   "execution_count": 39,
   "id": "7d26a2ce",
   "metadata": {
    "execution": {
     "iopub.execute_input": "2022-02-25T10:45:42.464730Z",
     "iopub.status.busy": "2022-02-25T10:45:42.464070Z",
     "iopub.status.idle": "2022-02-25T10:45:42.467229Z",
     "shell.execute_reply": "2022-02-25T10:45:42.467626Z",
     "shell.execute_reply.started": "2022-02-25T10:28:27.533476Z"
    },
    "papermill": {
     "duration": 0.066713,
     "end_time": "2022-02-25T10:45:42.467831",
     "exception": false,
     "start_time": "2022-02-25T10:45:42.401118",
     "status": "completed"
    },
    "tags": []
   },
   "outputs": [],
   "source": [
    "features = [f for f in train.columns if f not in ('PatientID', 'target')]"
   ]
  },
  {
   "cell_type": "code",
   "execution_count": 40,
   "id": "37767c71",
   "metadata": {
    "execution": {
     "iopub.execute_input": "2022-02-25T10:45:42.590577Z",
     "iopub.status.busy": "2022-02-25T10:45:42.589977Z",
     "iopub.status.idle": "2022-02-25T10:45:42.593170Z",
     "shell.execute_reply": "2022-02-25T10:45:42.593589Z",
     "shell.execute_reply.started": "2022-02-25T10:30:57.167527Z"
    },
    "papermill": {
     "duration": 0.065051,
     "end_time": "2022-02-25T10:45:42.593772",
     "exception": false,
     "start_time": "2022-02-25T10:45:42.528721",
     "status": "completed"
    },
    "tags": []
   },
   "outputs": [],
   "source": [
    "estimator = ExtraTreesClassifier(n_estimators=100, random_state=SEED, n_jobs=-1)"
   ]
  },
  {
   "cell_type": "code",
   "execution_count": 41,
   "id": "4a6d5272",
   "metadata": {
    "execution": {
     "iopub.execute_input": "2022-02-25T10:45:42.713766Z",
     "iopub.status.busy": "2022-02-25T10:45:42.713130Z",
     "iopub.status.idle": "2022-02-25T10:45:52.726498Z",
     "shell.execute_reply": "2022-02-25T10:45:52.727075Z",
     "shell.execute_reply.started": "2022-02-25T10:30:57.176371Z"
    },
    "papermill": {
     "duration": 10.075114,
     "end_time": "2022-02-25T10:45:52.727241",
     "exception": false,
     "start_time": "2022-02-25T10:45:42.652127",
     "status": "completed"
    },
    "tags": []
   },
   "outputs": [
    {
     "data": {
      "text/plain": [
       "ExtraTreesClassifier(n_jobs=-1, random_state=2311)"
      ]
     },
     "execution_count": 41,
     "metadata": {},
     "output_type": "execute_result"
    }
   ],
   "source": [
    "estimator.fit(train[features], train['target'])"
   ]
  },
  {
   "cell_type": "code",
   "execution_count": 42,
   "id": "9564ee45",
   "metadata": {
    "execution": {
     "iopub.execute_input": "2022-02-25T10:45:52.847868Z",
     "iopub.status.busy": "2022-02-25T10:45:52.847225Z",
     "iopub.status.idle": "2022-02-25T10:45:52.964548Z",
     "shell.execute_reply": "2022-02-25T10:45:52.965021Z",
     "shell.execute_reply.started": "2022-02-25T10:31:05.397874Z"
    },
    "papermill": {
     "duration": 0.178763,
     "end_time": "2022-02-25T10:45:52.965195",
     "exception": false,
     "start_time": "2022-02-25T10:45:52.786432",
     "status": "completed"
    },
    "tags": []
   },
   "outputs": [
    {
     "data": {
      "text/html": [
       "<div>\n",
       "<style scoped>\n",
       "    .dataframe tbody tr th:only-of-type {\n",
       "        vertical-align: middle;\n",
       "    }\n",
       "\n",
       "    .dataframe tbody tr th {\n",
       "        vertical-align: top;\n",
       "    }\n",
       "\n",
       "    .dataframe thead th {\n",
       "        text-align: right;\n",
       "    }\n",
       "</style>\n",
       "<table border=\"1\" class=\"dataframe\">\n",
       "  <thead>\n",
       "    <tr style=\"text-align: right;\">\n",
       "      <th></th>\n",
       "      <th>feature</th>\n",
       "      <th>importance</th>\n",
       "    </tr>\n",
       "  </thead>\n",
       "  <tbody>\n",
       "    <tr>\n",
       "      <th>0</th>\n",
       "      <td>HighBP</td>\n",
       "      <td>0.0269</td>\n",
       "    </tr>\n",
       "    <tr>\n",
       "      <th>1</th>\n",
       "      <td>HighChol</td>\n",
       "      <td>0.0236</td>\n",
       "    </tr>\n",
       "    <tr>\n",
       "      <th>2</th>\n",
       "      <td>CholCheck</td>\n",
       "      <td>0.0040</td>\n",
       "    </tr>\n",
       "    <tr>\n",
       "      <th>3</th>\n",
       "      <td>BMI</td>\n",
       "      <td>0.1839</td>\n",
       "    </tr>\n",
       "    <tr>\n",
       "      <th>4</th>\n",
       "      <td>Smoker</td>\n",
       "      <td>0.0177</td>\n",
       "    </tr>\n",
       "    <tr>\n",
       "      <th>5</th>\n",
       "      <td>Stroke</td>\n",
       "      <td>0.0285</td>\n",
       "    </tr>\n",
       "    <tr>\n",
       "      <th>6</th>\n",
       "      <td>Diabetes</td>\n",
       "      <td>0.0266</td>\n",
       "    </tr>\n",
       "    <tr>\n",
       "      <th>7</th>\n",
       "      <td>PhysActivity</td>\n",
       "      <td>0.0275</td>\n",
       "    </tr>\n",
       "    <tr>\n",
       "      <th>8</th>\n",
       "      <td>Fruits</td>\n",
       "      <td>0.0308</td>\n",
       "    </tr>\n",
       "    <tr>\n",
       "      <th>9</th>\n",
       "      <td>Veggies</td>\n",
       "      <td>0.0262</td>\n",
       "    </tr>\n",
       "    <tr>\n",
       "      <th>10</th>\n",
       "      <td>HvyAlcoholConsump</td>\n",
       "      <td>0.0082</td>\n",
       "    </tr>\n",
       "    <tr>\n",
       "      <th>11</th>\n",
       "      <td>AnyHealthcare</td>\n",
       "      <td>0.0081</td>\n",
       "    </tr>\n",
       "    <tr>\n",
       "      <th>12</th>\n",
       "      <td>NoDocbcCost</td>\n",
       "      <td>0.0154</td>\n",
       "    </tr>\n",
       "    <tr>\n",
       "      <th>13</th>\n",
       "      <td>GenHlth</td>\n",
       "      <td>0.0678</td>\n",
       "    </tr>\n",
       "    <tr>\n",
       "      <th>14</th>\n",
       "      <td>MentHlth</td>\n",
       "      <td>0.0704</td>\n",
       "    </tr>\n",
       "    <tr>\n",
       "      <th>15</th>\n",
       "      <td>PhysHlth</td>\n",
       "      <td>0.0862</td>\n",
       "    </tr>\n",
       "    <tr>\n",
       "      <th>16</th>\n",
       "      <td>DiffWalk</td>\n",
       "      <td>0.0292</td>\n",
       "    </tr>\n",
       "    <tr>\n",
       "      <th>17</th>\n",
       "      <td>Sex</td>\n",
       "      <td>0.0205</td>\n",
       "    </tr>\n",
       "    <tr>\n",
       "      <th>18</th>\n",
       "      <td>Age</td>\n",
       "      <td>0.1173</td>\n",
       "    </tr>\n",
       "    <tr>\n",
       "      <th>19</th>\n",
       "      <td>Education</td>\n",
       "      <td>0.0784</td>\n",
       "    </tr>\n",
       "    <tr>\n",
       "      <th>20</th>\n",
       "      <td>Income</td>\n",
       "      <td>0.1029</td>\n",
       "    </tr>\n",
       "  </tbody>\n",
       "</table>\n",
       "</div>"
      ],
      "text/plain": [
       "              feature  importance\n",
       "0              HighBP      0.0269\n",
       "1            HighChol      0.0236\n",
       "2           CholCheck      0.0040\n",
       "3                 BMI      0.1839\n",
       "4              Smoker      0.0177\n",
       "5              Stroke      0.0285\n",
       "6            Diabetes      0.0266\n",
       "7        PhysActivity      0.0275\n",
       "8              Fruits      0.0308\n",
       "9             Veggies      0.0262\n",
       "10  HvyAlcoholConsump      0.0082\n",
       "11      AnyHealthcare      0.0081\n",
       "12        NoDocbcCost      0.0154\n",
       "13            GenHlth      0.0678\n",
       "14           MentHlth      0.0704\n",
       "15           PhysHlth      0.0862\n",
       "16           DiffWalk      0.0292\n",
       "17                Sex      0.0205\n",
       "18                Age      0.1173\n",
       "19          Education      0.0784\n",
       "20             Income      0.1029"
      ]
     },
     "execution_count": 42,
     "metadata": {},
     "output_type": "execute_result"
    }
   ],
   "source": [
    "pd.DataFrame({'feature': features, 'importance': estimator.feature_importances_})"
   ]
  },
  {
   "cell_type": "markdown",
   "id": "f055b8ff",
   "metadata": {
    "papermill": {
     "duration": 0.061386,
     "end_time": "2022-02-25T10:45:53.087136",
     "exception": false,
     "start_time": "2022-02-25T10:45:53.025750",
     "status": "completed"
    },
    "tags": []
   },
   "source": [
    "* As expected, BMI and Age are relatively strong indicators of risk of heart disease. \n",
    "* General, Mental and Physical health are also good indicators, as expected from our experience.\n",
    "* Income is an unexpectedly strong indicator; higher income could imply better diet and healthcare at all stages of life and thus, lesser risk of heart disease."
   ]
  }
 ],
 "metadata": {
  "kernelspec": {
   "display_name": "Python 3",
   "language": "python",
   "name": "python3"
  },
  "language_info": {
   "codemirror_mode": {
    "name": "ipython",
    "version": 3
   },
   "file_extension": ".py",
   "mimetype": "text/x-python",
   "name": "python",
   "nbconvert_exporter": "python",
   "pygments_lexer": "ipython3",
   "version": "3.7.12"
  },
  "papermill": {
   "default_parameters": {},
   "duration": 32.34174,
   "end_time": "2022-02-25T10:45:53.975309",
   "environment_variables": {},
   "exception": null,
   "input_path": "__notebook__.ipynb",
   "output_path": "__notebook__.ipynb",
   "parameters": {},
   "start_time": "2022-02-25T10:45:21.633569",
   "version": "2.3.3"
  }
 },
 "nbformat": 4,
 "nbformat_minor": 5
}
